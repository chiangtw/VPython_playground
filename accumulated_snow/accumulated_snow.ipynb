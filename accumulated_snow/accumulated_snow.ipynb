{
 "cells": [
  {
   "cell_type": "markdown",
   "metadata": {},
   "source": [
    "<img src=\"./accumulated_snow.png\" width=\"500\" />"
   ]
  },
  {
   "cell_type": "code",
   "execution_count": null,
   "metadata": {
    "collapsed": true
   },
   "outputs": [],
   "source": [
    "import random as rd"
   ]
  },
  {
   "cell_type": "code",
   "execution_count": null,
   "metadata": {
    "collapsed": false
   },
   "outputs": [],
   "source": [
    "from vpython import *"
   ]
  },
  {
   "cell_type": "code",
   "execution_count": null,
   "metadata": {
    "collapsed": false,
    "scrolled": false
   },
   "outputs": [],
   "source": [
    "scene = canvas(range=0.6, forward=vec(0.5, -0.3, -0.8))\n",
    "\n",
    "H = W = 1\n",
    "h = w = 50\n",
    "dx = W/w\n",
    "dy = H/h\n",
    "\n",
    "vertices = []\n",
    "for x in range(w+1):\n",
    "    vertices.append([])\n",
    "    for y in range(h+1):\n",
    "        vertices[x].append(vertex(pos=vec(-0.5+x*dx, 0, -0.5+y*dy), normal=vec(0,1,0)))\n",
    "        \n",
    "for x in range(w):\n",
    "    for y in range(h):\n",
    "        quad(v0=vertices[x][y], v1=vertices[x+1][y], v2=vertices[x+1][y+1], v3=vertices[x][y+1])\n",
    "        \n",
    "ground = box(size=vec(1,0.01,1), color=vec(0,0.5,0))"
   ]
  },
  {
   "cell_type": "code",
   "execution_count": null,
   "metadata": {
    "collapsed": true
   },
   "outputs": [],
   "source": [
    "def accumulate_at(pos, R=0.01, k=20):\n",
    "    \n",
    "    def accumulation(p):\n",
    "        x = p.x - pos.x\n",
    "        y = p.z - pos.z\n",
    "        D = sqrt(x*x + y*y)\n",
    "        if D < pi/(2*k):\n",
    "            return R*cos(k*D)\n",
    "        else:\n",
    "            return 0\n",
    "        \n",
    "    return accumulation"
   ]
  },
  {
   "cell_type": "code",
   "execution_count": null,
   "metadata": {
    "collapsed": true
   },
   "outputs": [],
   "source": [
    "def snow_fall_on(pos, R=0.01, k=20):\n",
    "    global vertices\n",
    "    \n",
    "    accumulation = accumulate_at(pos, R=R, k=k)\n",
    "    \n",
    "    for x in range(w+1):\n",
    "        for y in range(h+1):\n",
    "            vertices[x][y].pos.y += accumulation(vertices[x][y].pos)\n",
    "\n",
    "    for x in range(1,w):\n",
    "        for y in range(1,h):\n",
    "            x0 = vertices[x-1][y]\n",
    "            x1 = vertices[x+1][y]\n",
    "            y0 = vertices[x][y-1]\n",
    "            y1 = vertices[x][y+1]\n",
    "\n",
    "            vertices[x][y].normal = norm(cross(x1.pos - x0.pos, y0.pos - y1.pos))"
   ]
  },
  {
   "cell_type": "code",
   "execution_count": null,
   "metadata": {
    "collapsed": true
   },
   "outputs": [],
   "source": [
    "for i in range(1000):\n",
    "    snow_pos = vec(rd.random()-0.5,0,rd.random()-0.5)\n",
    "    snow_fall_on(snow_pos, R=0.003, k=30)"
   ]
  }
 ],
 "metadata": {
  "kernelspec": {
   "display_name": "Python 3",
   "language": "python",
   "name": "python3"
  },
  "language_info": {
   "codemirror_mode": {
    "name": "ipython",
    "version": 3
   },
   "file_extension": ".py",
   "mimetype": "text/x-python",
   "name": "python",
   "nbconvert_exporter": "python",
   "pygments_lexer": "ipython3",
   "version": "3.6.0"
  }
 },
 "nbformat": 4,
 "nbformat_minor": 2
}
