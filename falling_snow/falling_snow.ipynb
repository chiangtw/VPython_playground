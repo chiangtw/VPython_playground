{
 "cells": [
  {
   "cell_type": "markdown",
   "metadata": {},
   "source": [
    "<img src=\"./falling_snow.png\" width=\"500\" />"
   ]
  },
  {
   "cell_type": "code",
   "execution_count": null,
   "metadata": {
    "collapsed": true
   },
   "outputs": [],
   "source": [
    "import random as rd"
   ]
  },
  {
   "cell_type": "code",
   "execution_count": null,
   "metadata": {
    "collapsed": false,
    "scrolled": false
   },
   "outputs": [],
   "source": [
    "from vpython import *"
   ]
  },
  {
   "cell_type": "code",
   "execution_count": null,
   "metadata": {
    "collapsed": true
   },
   "outputs": [],
   "source": [
    "class Snow(object):\n",
    "    def __init__(self, **args):\n",
    "        self._draw_body(args)\n",
    "        \n",
    "    def _draw_body(self, args):\n",
    "        pos = args.get(\"pos\", vec(0,0,0))\n",
    "        radius = args.get(\"radius\", 0.1)\n",
    "        \n",
    "        self._body = sphere(pos=pos, radius=radius, emissive=True)\n",
    "    \n",
    "    @property\n",
    "    def pos(self):\n",
    "        return self._body.pos\n",
    "    \n",
    "    @pos.setter\n",
    "    def pos(self, other):\n",
    "        self._body.pos = other\n",
    "    \n",
    "    @property\n",
    "    def visible(self):\n",
    "        return self._body.visible\n",
    "    \n",
    "    @visible.setter\n",
    "    def visible(self, other):\n",
    "        self._body.visible = other\n",
    "        \n",
    "    \n",
    "    def fall(self, velocity):\n",
    "        self.pos -= vec(0,velocity,0)\n",
    "        \n",
    "    def clean(self):\n",
    "        self.visible = False\n",
    "    "
   ]
  },
  {
   "cell_type": "code",
   "execution_count": null,
   "metadata": {
    "collapsed": true
   },
   "outputs": [],
   "source": [
    "class SnowBox(object):\n",
    "    def __init__(self):\n",
    "        self._box = []\n",
    "        \n",
    "    def __iter__(self):\n",
    "        for obj in self._box:\n",
    "            yield obj\n",
    "    \n",
    "    def append(self, obj):\n",
    "        self._box.append(obj)\n",
    "        \n",
    "    def clean(self, clean_cond):\n",
    "        sorted_snow_box = sorted(self._box, key=lambda snow: snow.pos.y, reverse=True)\n",
    "        \n",
    "        idx = len(sorted_snow_box)\n",
    "        while idx > 0:\n",
    "            snow = sorted_snow_box[idx-1]\n",
    "            if not clean_cond(snow):\n",
    "                break\n",
    "            idx -= 1\n",
    "                        \n",
    "        self._box, to_be_cleaned = sorted_snow_box[:idx], sorted_snow_box[idx:]\n",
    "        \n",
    "        for snow in to_be_cleaned:\n",
    "            snow.clean()"
   ]
  },
  {
   "cell_type": "code",
   "execution_count": null,
   "metadata": {
    "collapsed": true
   },
   "outputs": [],
   "source": [
    "def random_pos(center=vec(0,0,0), area_size=vec(10,10,10), round_to=1):\n",
    "    get_random_site = lambda c, p: round(rd.random()*p + (c - p/2), round_to)\n",
    "    \n",
    "    x = get_random_site(center.x, area_size.x)\n",
    "    y = get_random_site(center.y, area_size.y)\n",
    "    z = get_random_site(center.z, area_size.z)\n",
    "    \n",
    "    return vec(x, y, z)"
   ]
  },
  {
   "cell_type": "code",
   "execution_count": null,
   "metadata": {
    "collapsed": false
   },
   "outputs": [],
   "source": [
    "scene = canvas(center=vec(0,-1,0), forward=vec(-0.8, 0.06, 0.67), range=4)\n",
    "\n",
    "# the floor\n",
    "box(pos=vec(0,-5,0), size=vec(10,0.3,10))\n",
    "\n",
    "# animation\n",
    "snow_box = SnowBox()\n",
    "t = 0\n",
    "dt = 100\n",
    "while True:\n",
    "    rate(100)\n",
    "    \n",
    "    # generate snow\n",
    "    if t == dt:\n",
    "        snow_box.append(Snow(pos=random_pos(center=vec(0,4,0), area_size=vec(10,2,10))))\n",
    "        t = 0\n",
    "        dt = rd.randint(10,50)\n",
    "    \n",
    "    # snow falling\n",
    "    for snow in snow_box:\n",
    "        snow.fall(0.01)\n",
    "        \n",
    "    # clean snow\n",
    "    snow_box.clean(clean_cond=lambda snow: snow.pos.y < -5)\n",
    "            \n",
    "    t += 1"
   ]
  }
 ],
 "metadata": {
  "kernelspec": {
   "display_name": "Python 3",
   "language": "python",
   "name": "python3"
  },
  "language_info": {
   "codemirror_mode": {
    "name": "ipython",
    "version": 3
   },
   "file_extension": ".py",
   "mimetype": "text/x-python",
   "name": "python",
   "nbconvert_exporter": "python",
   "pygments_lexer": "ipython3",
   "version": "3.6.0"
  }
 },
 "nbformat": 4,
 "nbformat_minor": 2
}
