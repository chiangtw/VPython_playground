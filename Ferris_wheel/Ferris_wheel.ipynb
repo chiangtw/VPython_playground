{
 "cells": [
  {
   "cell_type": "code",
   "execution_count": 1,
   "metadata": {
    "collapsed": false,
    "deletable": true,
    "editable": true
   },
   "outputs": [
    {
     "data": {
      "application/javascript": [
       "require.undef(\"nbextensions/vpython_libraries/jquery-ui.custom.min\");"
      ],
      "text/plain": [
       "<IPython.core.display.Javascript object>"
      ]
     },
     "metadata": {},
     "output_type": "display_data"
    },
    {
     "data": {
      "application/javascript": [
       "require.undef(\"nbextensions/vpython_libraries/glow.2.1.min\");"
      ],
      "text/plain": [
       "<IPython.core.display.Javascript object>"
      ]
     },
     "metadata": {},
     "output_type": "display_data"
    },
    {
     "data": {
      "application/javascript": [
       "require.undef(\"nbextensions/vpython_libraries/glowcomm\");"
      ],
      "text/plain": [
       "<IPython.core.display.Javascript object>"
      ]
     },
     "metadata": {},
     "output_type": "display_data"
    },
    {
     "data": {
      "application/javascript": [
       "require([\"nbextensions/vpython_libraries/jquery-ui.custom.min\"], function(){console.log(\"JQUERY LOADED\");})"
      ],
      "text/plain": [
       "<IPython.core.display.Javascript object>"
      ]
     },
     "metadata": {},
     "output_type": "display_data"
    },
    {
     "data": {
      "application/javascript": [
       "require([\"nbextensions/vpython_libraries/glow.2.1.min\"], function(){console.log(\"GLOW LOADED\");})"
      ],
      "text/plain": [
       "<IPython.core.display.Javascript object>"
      ]
     },
     "metadata": {},
     "output_type": "display_data"
    },
    {
     "data": {
      "application/javascript": [
       "require([\"nbextensions/vpython_libraries/glowcomm\"], function(){console.log(\"GLOWCOMM LOADED\");})"
      ],
      "text/plain": [
       "<IPython.core.display.Javascript object>"
      ]
     },
     "metadata": {},
     "output_type": "display_data"
    },
    {
     "data": {
      "text/html": [
       "<div id=\"glowscript\" class=\"glowscript\"></div>"
      ],
      "text/plain": [
       "<IPython.core.display.HTML object>"
      ]
     },
     "metadata": {},
     "output_type": "display_data"
    },
    {
     "data": {
      "application/javascript": [
       "window.__context = { glowscript_container: $(\"#glowscript\").removeAttr(\"id\")}"
      ],
      "text/plain": [
       "<IPython.core.display.Javascript object>"
      ]
     },
     "metadata": {},
     "output_type": "display_data"
    }
   ],
   "source": [
    "from vpython import *"
   ]
  },
  {
   "cell_type": "code",
   "execution_count": 2,
   "metadata": {
    "collapsed": true,
    "deletable": true,
    "editable": true
   },
   "outputs": [],
   "source": [
    "class WheelBox(object):\n",
    "    def __init__(self, **args):\n",
    "        \n",
    "        self._draw_body(args)\n",
    "        \n",
    "    def _draw_body(self, args):\n",
    "        pos = args.get(\"pos\", vec(0,0,0))\n",
    "        radius = args.get(\"radius\", 1)\n",
    "        width = args.get(\"width\", 0.8)\n",
    "        color = args.get(\"color\", vec(0,0,1))\n",
    "        axis = args.get(\"axis\", vec(1,0,0))\n",
    "        num_of_pts = args.get(\"np\", 20)\n",
    "        \n",
    "        shape_of_upper_circle = shapes.circle(radius=radius, np=num_of_pts, angle1=0, angle2=pi)\n",
    "        shape_of_lower_circle = shapes.circle(radius=radius, np=num_of_pts, angle1=pi, angle2=2*pi)\n",
    "        \n",
    "        vuf = vertices_of_upper_front_circle = [vertex(pos=vec(p[0], p[1], width/2), color=vec(0.9,0.9,0.9)) for p in shape_of_upper_circle]\n",
    "        vub = vertices_of_upper_back_circle = [vertex(pos=vec(p[0], p[1], -width/2), color=vec(0.9,0.9,0.9)) for p in shape_of_upper_circle]\n",
    "        vlf = vertices_of_lower_front_circle = [vertex(pos=vec(p[0], p[1], width/2), color=color) for p in shape_of_lower_circle]\n",
    "        vlb = vertices_of_lower_back_circle = [vertex(pos=vec(p[0], p[1], -width/2), color=color) for p in shape_of_lower_circle]\n",
    "        \n",
    "        upper_half = [triangle(vs=[vuf[0], vuf[i], vuf[i+1]]) for i in range(len(vuf)-2)] + \\\n",
    "                     [triangle(vs=[vub[0], vub[i], vub[i+1]]) for i in range(len(vub)-2)] + \\\n",
    "                     [quad(vs=[vuf[i], vub[i], vub[i+1], vuf[i+1]]) for i in range(1, len(vuf)-2)]\n",
    "                \n",
    "        lower_half = [triangle(vs=[vlf[0], vlf[i], vlf[i+1]]) for i in range(len(vlf)-2)] + \\\n",
    "                     [triangle(vs=[vlb[0], vlb[i], vlb[i+1]]) for i in range(len(vlb)-2)] + \\\n",
    "                     [quad(vs=[vlf[i], vlb[i], vlb[i+1], vlf[i+1]]) for i in range(1, len(vlf)-2)]\n",
    "        \n",
    "        self._body = compound(upper_half + lower_half, pos=pos, axis=axis)\n",
    "        \n",
    "    @property\n",
    "    def pos(self):\n",
    "        return self._body.pos\n",
    "    \n",
    "    @pos.setter\n",
    "    def pos(self, other):\n",
    "        self._body.pos = other\n",
    "        "
   ]
  },
  {
   "cell_type": "code",
   "execution_count": 3,
   "metadata": {
    "collapsed": false,
    "deletable": true,
    "editable": true
   },
   "outputs": [
    {
     "data": {
      "text/html": [
       "<div id=\"glowscript\" class=\"glowscript\"></div>"
      ],
      "text/plain": [
       "<IPython.core.display.HTML object>"
      ]
     },
     "metadata": {},
     "output_type": "display_data"
    },
    {
     "data": {
      "application/javascript": [
       "window.__context = { glowscript_container: $(\"#glowscript\").removeAttr(\"id\")}"
      ],
      "text/plain": [
       "<IPython.core.display.Javascript object>"
      ]
     },
     "metadata": {},
     "output_type": "display_data"
    }
   ],
   "source": [
    "scene = canvas(center=vec(0,-3,0), forward=vec(-5,-2,-8))\n",
    "\n",
    "# base\n",
    "cylinder(pos=vec(0,0,-2), radius=0.5, length=4, axis=vec(0,0,1))\n",
    "[cylinder(pos=vec(0,0,1.5), axis=vec(3,-8,1), radius=0.3, length=12), \\\n",
    " cylinder(pos=vec(0,0,1.5), axis=vec(-3,-8,1), radius=0.3, length=12), \\\n",
    " cylinder(pos=vec(0,0,-1.5), axis=vec(3,-8,-1), radius=0.3, length=12), \\\n",
    " cylinder(pos=vec(0,0,-1.5), axis=vec(-3,-8,-1), radius=0.3, length=12)]\n",
    "box(pos=vec(0,-12,0), size=vec(12, 2, 8))\n",
    "quad(v0=vertex(pos=vec(5.5,-10.9, 3.5), color=vec(0,0.5,0)), \\\n",
    "     v1=vertex(pos=vec(5.5,-10.9, -3.5), color=vec(0,0.5,0)), \\\n",
    "     v2=vertex(pos=vec(-5.5,-10.9, -3.5), color=vec(0,0.5,0)), \\\n",
    "     v3=vertex(pos=vec(-5.5,-10.9, 3.5), color=vec(0,0.5,0)))\n",
    "\n",
    "# wheel\n",
    "box_pos_shape = shapes.circle(radius=8, np=12)[:-1]\n",
    "\n",
    "wheel = compound([ring(pos=vec(0,0,0.5), radius=8, axis=vec(0,0,1)), \\\n",
    "                  ring(pos=vec(0,0,-0.5), radius=8, axis=vec(0,0,1))] + \\\n",
    "                 [cylinder(pos=vec(0,0,1), axis=vec(p[0],p[1],0.5)-vec(0,0,1), radius=0.1) for p in box_pos_shape] + \\\n",
    "                 [cylinder(pos=vec(0,0,-1), axis=vec(p[0],p[1],-0.5)-vec(0,0,-1), radius=0.1) for p in box_pos_shape] + \\\n",
    "                 [cylinder(pos=vec(p[0],p[1],0.5), axis=vec(0,0,-1), length=1, radius=0.1) for p in box_pos_shape])\n",
    "\n",
    "gondola = [WheelBox(pos=vec(p[0],p[1]-1,0)) for p in box_pos_shape]"
   ]
  },
  {
   "cell_type": "code",
   "execution_count": null,
   "metadata": {
    "collapsed": true,
    "deletable": true,
    "editable": true
   },
   "outputs": [],
   "source": [
    "while True:\n",
    "    rate(100)\n",
    "    wheel.rotate(angle=2*pi/2000, axis=vec(0,0,1))\n",
    "    for g in gondola:\n",
    "        g.pos = rotate(g.pos + vec(0,1,0), angle=2*pi/2000) + vec(0,-1,0)"
   ]
  },
  {
   "cell_type": "code",
   "execution_count": null,
   "metadata": {
    "collapsed": true,
    "deletable": true,
    "editable": true
   },
   "outputs": [],
   "source": []
  }
 ],
 "metadata": {
  "kernelspec": {
   "display_name": "Python 3",
   "language": "python",
   "name": "python3"
  },
  "language_info": {
   "codemirror_mode": {
    "name": "ipython",
    "version": 3
   },
   "file_extension": ".py",
   "mimetype": "text/x-python",
   "name": "python",
   "nbconvert_exporter": "python",
   "pygments_lexer": "ipython3",
   "version": "3.6.0"
  }
 },
 "nbformat": 4,
 "nbformat_minor": 2
}
